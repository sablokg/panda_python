{
 "cells": [
  {
   "cell_type": "code",
   "execution_count": null,
   "id": "3245d096",
   "metadata": {},
   "outputs": [],
   "source": [
    "indexing and enumerate()"
   ]
  },
  {
   "cell_type": "code",
   "execution_count": 4,
   "id": "88b4aea2",
   "metadata": {},
   "outputs": [],
   "source": [
    "import pandas as pd"
   ]
  },
  {
   "cell_type": "code",
   "execution_count": 5,
   "id": "2978f515",
   "metadata": {},
   "outputs": [],
   "source": [
    "series_a = pd.Series(['A', 'AB', 'ABC', 'ABCD', 'ABCDE'])"
   ]
  },
  {
   "cell_type": "code",
   "execution_count": 19,
   "id": "74e55120",
   "metadata": {},
   "outputs": [
    {
     "data": {
      "text/plain": [
       "0        A\n",
       "1       AB\n",
       "2      ABC\n",
       "3     ABCD\n",
       "4    ABCDE\n",
       "dtype: object"
      ]
     },
     "execution_count": 19,
     "metadata": {},
     "output_type": "execute_result"
    }
   ],
   "source": [
    "series_a # This series is starting at 0 and hence it is taking the implicit indexing"
   ]
  },
  {
   "cell_type": "code",
   "execution_count": 20,
   "id": "043d46da",
   "metadata": {},
   "outputs": [
    {
     "data": {
      "text/plain": [
       "[0, 1, 2, 3, 4]"
      ]
     },
     "execution_count": 20,
     "metadata": {},
     "output_type": "execute_result"
    }
   ],
   "source": [
    "list(series_a.index)"
   ]
  },
  {
   "cell_type": "markdown",
   "id": "2003f591",
   "metadata": {},
   "source": [
    "The series down below is starting at 1 and hence it is taking explicing indexing"
   ]
  },
  {
   "cell_type": "code",
   "execution_count": 21,
   "id": "3d02a9e2",
   "metadata": {},
   "outputs": [
    {
     "data": {
      "text/plain": [
       "1        A\n",
       "2       AB\n",
       "3      ABC\n",
       "4     ABCD\n",
       "5    ABCDE\n",
       "dtype: object"
      ]
     },
     "execution_count": 21,
     "metadata": {},
     "output_type": "execute_result"
    }
   ],
   "source": [
    "series_b = pd.Series(['A', 'AB', 'ABC', 'ABCD', 'ABCDE'], index = [1, 2, 3, 4, 5]) \n",
    "series_b"
   ]
  },
  {
   "cell_type": "markdown",
   "id": "fe45ae62",
   "metadata": {},
   "source": [
    "Now lets consider enumerate"
   ]
  },
  {
   "cell_type": "code",
   "execution_count": 50,
   "id": "525a6a4b",
   "metadata": {},
   "outputs": [],
   "source": [
    "name = ['lazy', 'dog', 'brown', 'jump', 'died']"
   ]
  },
  {
   "cell_type": "code",
   "execution_count": 51,
   "id": "3dff20de",
   "metadata": {},
   "outputs": [
    {
     "name": "stdout",
     "output_type": "stream",
     "text": [
      "0 lazy\n",
      "1 dog\n",
      "2 brown\n",
      "3 jump\n",
      "4 died\n"
     ]
    }
   ],
   "source": [
    "for i, name in enumerate(name): # This is called as implicit indexing as the enumerate is starting at 0. \n",
    "    print(i,name)"
   ]
  },
  {
   "cell_type": "markdown",
   "id": "306c46af",
   "metadata": {},
   "source": [
    "setting the specific enumerate"
   ]
  },
  {
   "cell_type": "code",
   "execution_count": 52,
   "id": "c650e3ce",
   "metadata": {},
   "outputs": [],
   "source": [
    "name = ['lazy', 'dog', 'brown', 'jump', 'died']"
   ]
  },
  {
   "cell_type": "code",
   "execution_count": 53,
   "id": "2d93a45d",
   "metadata": {},
   "outputs": [
    {
     "name": "stdout",
     "output_type": "stream",
     "text": [
      "1 lazy\n",
      "2 dog\n",
      "3 brown\n",
      "4 jump\n",
      "5 died\n"
     ]
    }
   ],
   "source": [
    "for i, name in enumerate(name,1): # This is called explicit indexing as the enumerate is starting at 1.\n",
    "    print(i,name)"
   ]
  },
  {
   "cell_type": "code",
   "execution_count": 67,
   "id": "26aa70c4",
   "metadata": {},
   "outputs": [],
   "source": [
    "name = ['lazy', 'dog', 'brown', 'jump', 'died']"
   ]
  },
  {
   "cell_type": "code",
   "execution_count": 68,
   "id": "3b04c4c6",
   "metadata": {},
   "outputs": [
    {
     "name": "stdout",
     "output_type": "stream",
     "text": [
      "01_lazy\n",
      "02_dog\n",
      "03_brown\n",
      "04_jump\n",
      "05_died\n"
     ]
    }
   ],
   "source": [
    "for i, name in enumerate(name,1): # This is called explicit indexing as the enumerate is starting at 1.\n",
    "    print('{:02}_{}'.format(i,name)) # The difference is that here i am adding a regex to the index. "
   ]
  },
  {
   "cell_type": "code",
   "execution_count": 1,
   "id": "568ba1a2",
   "metadata": {},
   "outputs": [],
   "source": [
    "name = ['lazy', 'dog', 'brown', 'jump', 'died']"
   ]
  },
  {
   "cell_type": "code",
   "execution_count": 78,
   "id": "2274e429",
   "metadata": {},
   "outputs": [
    {
     "name": "stdout",
     "output_type": "stream",
     "text": [
      "01_lazy\n",
      "02_dog\n",
      "03_brown\n",
      "04_jump\n",
      "05_died\n"
     ]
    }
   ],
   "source": [
    "for i, name in enumerate(name,1): # This is called explicit indexing as the enumerate is starting at 1.\n",
    "    print('{:02}_{}'.format(i,name)) # The difference is that here i am adding a regex to the index."
   ]
  },
  {
   "cell_type": "code",
   "execution_count": null,
   "id": "bea7b312",
   "metadata": {},
   "outputs": [],
   "source": [
    "Now to iterate a series like permutations in panda series"
   ]
  },
  {
   "cell_type": "code",
   "execution_count": 6,
   "id": "a6b5e8fd",
   "metadata": {},
   "outputs": [
    {
     "name": "stdout",
     "output_type": "stream",
     "text": [
      "0 0        A\n",
      "1       AB\n",
      "2      ABC\n",
      "3     ABCD\n",
      "4    ABCDE\n",
      "dtype: object\n",
      "1 0        A\n",
      "1       AB\n",
      "2      ABC\n",
      "3     ABCD\n",
      "4    ABCDE\n",
      "dtype: object\n",
      "2 0        A\n",
      "1       AB\n",
      "2      ABC\n",
      "3     ABCD\n",
      "4    ABCDE\n",
      "dtype: object\n",
      "3 0        A\n",
      "1       AB\n",
      "2      ABC\n",
      "3     ABCD\n",
      "4    ABCDE\n",
      "dtype: object\n",
      "4 0        A\n",
      "1       AB\n",
      "2      ABC\n",
      "3     ABCD\n",
      "4    ABCDE\n",
      "dtype: object\n"
     ]
    }
   ],
   "source": [
    "for i, name in enumerate(series_a):\n",
    "    print(i,series_a)"
   ]
  },
  {
   "cell_type": "code",
   "execution_count": null,
   "id": "1a0876ec",
   "metadata": {},
   "outputs": [],
   "source": []
  }
 ],
 "metadata": {
  "kernelspec": {
   "display_name": "Python 3.6 (tensorflow)",
   "language": "python",
   "name": "tensorflow"
  },
  "language_info": {
   "codemirror_mode": {
    "name": "ipython",
    "version": 3
   },
   "file_extension": ".py",
   "mimetype": "text/x-python",
   "name": "python",
   "nbconvert_exporter": "python",
   "pygments_lexer": "ipython3",
   "version": "3.11.0"
  },
  "varInspector": {
   "cols": {
    "lenName": 16,
    "lenType": 16,
    "lenVar": 40
   },
   "kernels_config": {
    "python": {
     "delete_cmd_postfix": "",
     "delete_cmd_prefix": "del ",
     "library": "var_list.py",
     "varRefreshCmd": "print(var_dic_list())"
    },
    "r": {
     "delete_cmd_postfix": ") ",
     "delete_cmd_prefix": "rm(",
     "library": "var_list.r",
     "varRefreshCmd": "cat(var_dic_list()) "
    }
   },
   "types_to_exclude": [
    "module",
    "function",
    "builtin_function_or_method",
    "instance",
    "_Feature"
   ],
   "window_display": false
  }
 },
 "nbformat": 4,
 "nbformat_minor": 5
}
