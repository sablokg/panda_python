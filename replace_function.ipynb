{
 "cells": [
  {
   "cell_type": "code",
   "execution_count": 2,
   "id": "493f5344",
   "metadata": {},
   "outputs": [],
   "source": [
    "import pandas as pd"
   ]
  },
  {
   "cell_type": "markdown",
   "id": "28007824",
   "metadata": {},
   "source": [
    "Replace strings in Python (replace, translate, re.sub, re.subn) \n",
    "and replace string in panda series"
   ]
  },
  {
   "cell_type": "markdown",
   "id": "8b91e0eb",
   "metadata": {},
   "source": [
    "In python there are \n",
    "\n",
    "replace()\n",
    "translate()\n",
    "re.sub(), re.subn() functions \n",
    "\n",
    "and in pandas \n",
    "\n",
    "str.replace()"
   ]
  },
  {
   "cell_type": "code",
   "execution_count": 105,
   "id": "4293ff84",
   "metadata": {},
   "outputs": [],
   "source": [
    "str = 'A AB ABC ABCD ABCDE'"
   ]
  },
  {
   "cell_type": "code",
   "execution_count": null,
   "id": "f56688bc",
   "metadata": {},
   "outputs": [],
   "source": [
    "calling .replace(old_string, new_string) function"
   ]
  },
  {
   "cell_type": "code",
   "execution_count": 106,
   "id": "619ce280",
   "metadata": {},
   "outputs": [
    {
     "name": "stdout",
     "output_type": "stream",
     "text": [
      "A-AB-ABC-ABCD-ABCDE\n"
     ]
    }
   ],
   "source": [
    "print(str.replace(' ', '-'))"
   ]
  },
  {
   "cell_type": "code",
   "execution_count": null,
   "id": "431a8d91",
   "metadata": {},
   "outputs": [],
   "source": [
    "escaping all the characters in the string"
   ]
  },
  {
   "cell_type": "code",
   "execution_count": 10,
   "id": "5c6c95a6",
   "metadata": {},
   "outputs": [
    {
     "name": "stdout",
     "output_type": "stream",
     "text": [
      "AABABCABCDABCDE\n"
     ]
    }
   ],
   "source": [
    "print(str.replace(' ', ''))"
   ]
  },
  {
   "cell_type": "code",
   "execution_count": null,
   "id": "28fb2fc0",
   "metadata": {},
   "outputs": [],
   "source": [
    "This you can also using the .join() and the string split function. \n",
    "In this first i split the string and then join the string"
   ]
  },
  {
   "cell_type": "code",
   "execution_count": 107,
   "id": "790d139a",
   "metadata": {},
   "outputs": [
    {
     "data": {
      "text/plain": [
       "'AABABCABCDABCDE'"
      ]
     },
     "execution_count": 107,
     "metadata": {},
     "output_type": "execute_result"
    }
   ],
   "source": [
    "''.join((str.split()))"
   ]
  },
  {
   "cell_type": "code",
   "execution_count": null,
   "id": "3c710bfa",
   "metadata": {},
   "outputs": [],
   "source": [
    "Now replacing the specific index"
   ]
  },
  {
   "cell_type": "code",
   "execution_count": 34,
   "id": "8a57cb64",
   "metadata": {},
   "outputs": [],
   "source": [
    "str = 'A AB ABC ABCD ABCDE'"
   ]
  },
  {
   "cell_type": "code",
   "execution_count": 35,
   "id": "0a929f2e",
   "metadata": {},
   "outputs": [
    {
     "name": "stdout",
     "output_type": "stream",
     "text": [
      "A AB UAC UACD UACDE\n"
     ]
    }
   ],
   "source": [
    "print(str.replace('ABC', 'UAC')) # replace ABC with UAC"
   ]
  },
  {
   "cell_type": "markdown",
   "id": "bee5dfa9",
   "metadata": {},
   "source": [
    "However if you want to replace specific occurence of A such as index based"
   ]
  },
  {
   "cell_type": "code",
   "execution_count": 36,
   "id": "00e53b8c",
   "metadata": {},
   "outputs": [
    {
     "name": "stdout",
     "output_type": "stream",
     "text": [
      "A AB UBC UBCD UBCDE\n"
     ]
    }
   ],
   "source": [
    "print(str.replace('ABC', 'UBC', 3)) # replace A with U"
   ]
  },
  {
   "cell_type": "code",
   "execution_count": null,
   "id": "ed77dbd7",
   "metadata": {},
   "outputs": [],
   "source": [
    "You can see that it replaced first 3 instances of ABC "
   ]
  },
  {
   "cell_type": "code",
   "execution_count": null,
   "id": "757131a0",
   "metadata": {},
   "outputs": [],
   "source": [
    "Lets think that you have to replace 2 string at one time, then you can use the chaining indexing \n",
    "method to call the s.replace repeatedly"
   ]
  },
  {
   "cell_type": "code",
   "execution_count": 30,
   "id": "df57a5b3",
   "metadata": {},
   "outputs": [
    {
     "name": "stdout",
     "output_type": "stream",
     "text": [
      "U UG UGC UGCD UGCDE\n"
     ]
    }
   ],
   "source": [
    "# In this chaining method all the A are replaced with U and B with G\n",
    "print(str.replace('A', 'U').replace('B', 'G'))"
   ]
  },
  {
   "cell_type": "code",
   "execution_count": null,
   "id": "874de644",
   "metadata": {},
   "outputs": [],
   "source": [
    "In the above replace, you are a character for a chacter or a word for a word, \n",
    "but if you have a character in a word, which you want to replace"
   ]
  },
  {
   "cell_type": "code",
   "execution_count": 31,
   "id": "d4598aec",
   "metadata": {},
   "outputs": [
    {
     "name": "stdout",
     "output_type": "stream",
     "text": [
      "o ob obC obCD obCDE\n"
     ]
    }
   ],
   "source": [
    "str = 'A AB ABC ABCD ABCDE'\n",
    "\n",
    "print(s.translate(str.maketrans({'A': 'o', 'B': 'b'}))) "
   ]
  },
  {
   "cell_type": "code",
   "execution_count": null,
   "id": "555a9050",
   "metadata": {},
   "outputs": [],
   "source": [
    "The utility of the .maketrans() function is that it accepts a dictionary, \n",
    "so you can provide as much as you want as iterables, whereas the .replace() \n",
    "only takes a 3 argument array"
   ]
  },
  {
   "cell_type": "code",
   "execution_count": 38,
   "id": "a764a18b",
   "metadata": {},
   "outputs": [
    {
     "name": "stdout",
     "output_type": "stream",
     "text": [
      "a ab abC abCD abCDE\n"
     ]
    }
   ],
   "source": [
    "str = 'A AB ABC ABCD ABCDE'\n",
    "\n",
    "print(s.translate(str.maketrans({'A': 'a', 'B': 'b'})))"
   ]
  },
  {
   "cell_type": "code",
   "execution_count": null,
   "id": "7f51121f",
   "metadata": {},
   "outputs": [],
   "source": [
    "Another feature that differentiates between the .maketrans() and .replace() is that \n",
    "in the case of the .maketrans(), your defined key value should be of len=1, \n",
    "means a character and not a string and your value can be of anything \n",
    "whereas in case of the .replace,you can define to any length."
   ]
  },
  {
   "cell_type": "code",
   "execution_count": null,
   "id": "a9f74daf",
   "metadata": {},
   "outputs": [],
   "source": [
    "Replace newline character with any separator"
   ]
  },
  {
   "cell_type": "code",
   "execution_count": 60,
   "id": "9990d051",
   "metadata": {},
   "outputs": [],
   "source": [
    "str = 'A\\nAB\\nABC\\nABCD\\nABCDE'"
   ]
  },
  {
   "cell_type": "code",
   "execution_count": 61,
   "id": "809a888b",
   "metadata": {},
   "outputs": [
    {
     "name": "stdout",
     "output_type": "stream",
     "text": [
      "A-AB-ABC-ABCD-ABCDE\n"
     ]
    }
   ],
   "source": [
    "print(str.replace('\\n', '-'))"
   ]
  },
  {
   "cell_type": "code",
   "execution_count": 53,
   "id": "b04b774d",
   "metadata": {},
   "outputs": [],
   "source": [
    "Now there are two types of splits that you can use, one is .split() and .splitlines()\n",
    ".split() should be used when you have a string and .splitlines should be used when you have a \n",
    "string separated by new lines"
   ]
  },
  {
   "cell_type": "code",
   "execution_count": 62,
   "id": "446201a1",
   "metadata": {},
   "outputs": [],
   "source": [
    "str_linebreak = 'A\\nAB\\nABC\\nABCD\\nABCDE'"
   ]
  },
  {
   "cell_type": "code",
   "execution_count": 66,
   "id": "a9bcaac9",
   "metadata": {},
   "outputs": [],
   "source": [
    "str = 'A AB ABC ABCD ABCDE'"
   ]
  },
  {
   "cell_type": "code",
   "execution_count": 64,
   "id": "b625976e",
   "metadata": {},
   "outputs": [
    {
     "name": "stdout",
     "output_type": "stream",
     "text": [
      "['A', 'AB', 'ABC', 'ABCD', 'ABCDE']\n"
     ]
    }
   ],
   "source": [
    "print(str_linebreak.splitlines())"
   ]
  },
  {
   "cell_type": "code",
   "execution_count": 65,
   "id": "ebdf2006",
   "metadata": {},
   "outputs": [
    {
     "name": "stdout",
     "output_type": "stream",
     "text": [
      "['A', 'AB', 'ABC', 'ABCD', 'ABCDE']\n"
     ]
    }
   ],
   "source": [
    "print(str.split())"
   ]
  },
  {
   "cell_type": "code",
   "execution_count": null,
   "id": "cfa3164c",
   "metadata": {},
   "outputs": [],
   "source": [
    "See here if i apply .splitlines() on the str then it will show like this, it \n",
    "made a list of the string."
   ]
  },
  {
   "cell_type": "code",
   "execution_count": 67,
   "id": "c730d0fa",
   "metadata": {},
   "outputs": [
    {
     "name": "stdout",
     "output_type": "stream",
     "text": [
      "['A AB ABC ABCD ABCDE']\n"
     ]
    }
   ],
   "source": [
    "print(str_linebreak.splitlines())"
   ]
  },
  {
   "cell_type": "code",
   "execution_count": null,
   "id": "d49eab9b",
   "metadata": {},
   "outputs": [],
   "source": [
    "You can use join to join this string"
   ]
  },
  {
   "cell_type": "code",
   "execution_count": 69,
   "id": "4230035a",
   "metadata": {},
   "outputs": [
    {
     "name": "stdout",
     "output_type": "stream",
     "text": [
      "A-AB-ABC-ABCD-ABCDE\n"
     ]
    }
   ],
   "source": [
    "print('-'.join(str_linebreak.splitlines()))"
   ]
  },
  {
   "cell_type": "code",
   "execution_count": 70,
   "id": "cac00b5e",
   "metadata": {},
   "outputs": [
    {
     "name": "stdout",
     "output_type": "stream",
     "text": [
      "A-AB-ABC-ABCD-ABCDE\n"
     ]
    }
   ],
   "source": [
    "print('-'.join(str.split()))"
   ]
  },
  {
   "cell_type": "code",
   "execution_count": null,
   "id": "8b82c9af",
   "metadata": {},
   "outputs": [],
   "source": [
    "To enlist all; \n",
    "\n",
    "remove the white space:df.columns =  df.columns.str.replace(' ', '') or \n",
    "    replace it with any character df.columns = df.columns.str.replace(' ', '_')\n",
    "remove the white space at the start of the string: df.columns =     df.columns.str.lstrip()\n",
    "remove the white space at the end of string:df.columns =   df.columns.str.rstrip()\n",
    "remove the white space at both ends: df.columns = df.columns.str.strip()\n",
    "\n",
    "\n",
    "remove the spaces using the regex\n",
    "    remove the white space at start of the string:df.columns = df.columns.str.replace('^ +', '_')\n",
    "    remove the white space at the end of the string:df.columns = df.columns.str.replace(' +$', '_')\n",
    "    remove the white space at both ends:df.columns = df.columns.str.replace('^ +| +$', '_')\n",
    "        \n",
    "remember this in the above I am using .columns which means i am using a indexed column, \n",
    "you can put this on the column also\n",
    "\n",
    "df[col] = df[col].str.strip()\n",
    "    \n",
    "    can it be chained and the answer is yes \n",
    "    \n",
    "    df.columns = df.columns.str.strip().str.replace(' ', '_') or \n",
    "        df[col] = df[col].str.strip().str.replace(' ', '_')"
   ]
  },
  {
   "cell_type": "code",
   "execution_count": 71,
   "id": "322f9b40",
   "metadata": {},
   "outputs": [],
   "source": [
    "import pandas as pd "
   ]
  },
  {
   "cell_type": "code",
   "execution_count": 72,
   "id": "8aa31a75",
   "metadata": {},
   "outputs": [],
   "source": [
    "import csv as cv"
   ]
  },
  {
   "cell_type": "code",
   "execution_count": 75,
   "id": "65dd4fa1",
   "metadata": {},
   "outputs": [],
   "source": [
    "data=pd.read_csv('/Users/dr.gauravsablok/pandas/Datasets/temperature-anomaly.csv')"
   ]
  },
  {
   "cell_type": "code",
   "execution_count": 76,
   "id": "4d04bd5f",
   "metadata": {},
   "outputs": [
    {
     "data": {
      "text/html": [
       "<div>\n",
       "<style scoped>\n",
       "    .dataframe tbody tr th:only-of-type {\n",
       "        vertical-align: middle;\n",
       "    }\n",
       "\n",
       "    .dataframe tbody tr th {\n",
       "        vertical-align: top;\n",
       "    }\n",
       "\n",
       "    .dataframe thead th {\n",
       "        text-align: right;\n",
       "    }\n",
       "</style>\n",
       "<table border=\"1\" class=\"dataframe\">\n",
       "  <thead>\n",
       "    <tr style=\"text-align: right;\">\n",
       "      <th></th>\n",
       "      <th>Entity</th>\n",
       "      <th>Code</th>\n",
       "      <th>Year</th>\n",
       "      <th>Median temperature anomaly from 1961-1990 average</th>\n",
       "      <th>Upper bound (95% CI)</th>\n",
       "      <th>Lower bound (95% CI)</th>\n",
       "    </tr>\n",
       "  </thead>\n",
       "  <tbody>\n",
       "    <tr>\n",
       "      <th>0</th>\n",
       "      <td>Global</td>\n",
       "      <td>NaN</td>\n",
       "      <td>1850</td>\n",
       "      <td>-0.373</td>\n",
       "      <td>-0.339</td>\n",
       "      <td>-0.425</td>\n",
       "    </tr>\n",
       "    <tr>\n",
       "      <th>1</th>\n",
       "      <td>Global</td>\n",
       "      <td>NaN</td>\n",
       "      <td>1851</td>\n",
       "      <td>-0.218</td>\n",
       "      <td>-0.184</td>\n",
       "      <td>-0.274</td>\n",
       "    </tr>\n",
       "    <tr>\n",
       "      <th>2</th>\n",
       "      <td>Global</td>\n",
       "      <td>NaN</td>\n",
       "      <td>1852</td>\n",
       "      <td>-0.228</td>\n",
       "      <td>-0.196</td>\n",
       "      <td>-0.280</td>\n",
       "    </tr>\n",
       "    <tr>\n",
       "      <th>3</th>\n",
       "      <td>Global</td>\n",
       "      <td>NaN</td>\n",
       "      <td>1853</td>\n",
       "      <td>-0.269</td>\n",
       "      <td>-0.239</td>\n",
       "      <td>-0.321</td>\n",
       "    </tr>\n",
       "    <tr>\n",
       "      <th>4</th>\n",
       "      <td>Global</td>\n",
       "      <td>NaN</td>\n",
       "      <td>1854</td>\n",
       "      <td>-0.248</td>\n",
       "      <td>-0.218</td>\n",
       "      <td>-0.301</td>\n",
       "    </tr>\n",
       "  </tbody>\n",
       "</table>\n",
       "</div>"
      ],
      "text/plain": [
       "   Entity  Code  Year  Median temperature anomaly from 1961-1990 average  \\\n",
       "0  Global   NaN  1850                                             -0.373   \n",
       "1  Global   NaN  1851                                             -0.218   \n",
       "2  Global   NaN  1852                                             -0.228   \n",
       "3  Global   NaN  1853                                             -0.269   \n",
       "4  Global   NaN  1854                                             -0.248   \n",
       "\n",
       "   Upper bound (95% CI)  Lower bound (95% CI)  \n",
       "0                -0.339                -0.425  \n",
       "1                -0.184                -0.274  \n",
       "2                -0.196                -0.280  \n",
       "3                -0.239                -0.321  \n",
       "4                -0.218                -0.301  "
      ]
     },
     "execution_count": 76,
     "metadata": {},
     "output_type": "execute_result"
    }
   ],
   "source": [
    "data.head()"
   ]
  },
  {
   "cell_type": "code",
   "execution_count": 78,
   "id": "e00f1fd8",
   "metadata": {},
   "outputs": [
    {
     "data": {
      "text/plain": [
       "Index(['Entity', 'Code', 'Year',\n",
       "       'Median temperature anomaly from 1961-1990 average',\n",
       "       'Upper bound (95% CI)', 'Lower bound (95% CI)'],\n",
       "      dtype='object')"
      ]
     },
     "execution_count": 78,
     "metadata": {},
     "output_type": "execute_result"
    }
   ],
   "source": [
    "data.columns"
   ]
  },
  {
   "cell_type": "code",
   "execution_count": 79,
   "id": "cfa584f9",
   "metadata": {},
   "outputs": [
    {
     "data": {
      "text/plain": [
       "array(['Entity', 'Code', 'Year',\n",
       "       'Median temperature anomaly from 1961-1990 average',\n",
       "       'Upper bound (95% CI)', 'Lower bound (95% CI)'], dtype=object)"
      ]
     },
     "execution_count": 79,
     "metadata": {},
     "output_type": "execute_result"
    }
   ],
   "source": [
    "data.columns.values"
   ]
  },
  {
   "cell_type": "code",
   "execution_count": 80,
   "id": "cf1adfac",
   "metadata": {},
   "outputs": [
    {
     "data": {
      "text/plain": [
       "RangeIndex(start=0, stop=680, step=1)"
      ]
     },
     "execution_count": 80,
     "metadata": {},
     "output_type": "execute_result"
    }
   ],
   "source": [
    "data.index"
   ]
  },
  {
   "cell_type": "code",
   "execution_count": 82,
   "id": "5d4e77e2",
   "metadata": {},
   "outputs": [
    {
     "data": {
      "text/plain": [
       "Index(['Entity', 'Code', 'Year',\n",
       "       'Median_temperature_anomaly_from_1961-1990_average',\n",
       "       'Upper_bound_(95%_CI)', 'Lower_bound_(95%_CI)'],\n",
       "      dtype='object')"
      ]
     },
     "execution_count": 82,
     "metadata": {},
     "output_type": "execute_result"
    }
   ],
   "source": [
    "data.columns.str.replace(' ', '_') # see below the spaces in the columns are replaced by _"
   ]
  }
 ],
 "metadata": {
  "kernelspec": {
   "display_name": "Python 3.6 (tensorflow)",
   "language": "python",
   "name": "tensorflow"
  },
  "language_info": {
   "codemirror_mode": {
    "name": "ipython",
    "version": 3
   },
   "file_extension": ".py",
   "mimetype": "text/x-python",
   "name": "python",
   "nbconvert_exporter": "python",
   "pygments_lexer": "ipython3",
   "version": "3.11.0"
  },
  "varInspector": {
   "cols": {
    "lenName": 16,
    "lenType": 16,
    "lenVar": 40
   },
   "kernels_config": {
    "python": {
     "delete_cmd_postfix": "",
     "delete_cmd_prefix": "del ",
     "library": "var_list.py",
     "varRefreshCmd": "print(var_dic_list())"
    },
    "r": {
     "delete_cmd_postfix": ") ",
     "delete_cmd_prefix": "rm(",
     "library": "var_list.r",
     "varRefreshCmd": "cat(var_dic_list()) "
    }
   },
   "types_to_exclude": [
    "module",
    "function",
    "builtin_function_or_method",
    "instance",
    "_Feature"
   ],
   "window_display": false
  }
 },
 "nbformat": 4,
 "nbformat_minor": 5
}
